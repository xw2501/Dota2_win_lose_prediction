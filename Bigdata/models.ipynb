{
 "cells": [
  {
   "cell_type": "code",
   "execution_count": 1,
   "metadata": {
    "collapsed": true
   },
   "outputs": [],
   "source": [
    "import csv\n",
    "import numpy as np\n",
    "from sklearn import linear_model\n",
    "\n",
    "test_size = 2500\n",
    "count = 0\n",
    "\n",
    "test_go_2 = []\n",
    "test_go_4 = []\n",
    "test_go_6 = []\n",
    "test_go_8 = []\n",
    "test_go_0 = []\n",
    "test_xp_2 = []\n",
    "test_xp_4 = []\n",
    "test_xp_6 = []\n",
    "test_xp_8 = []\n",
    "test_xp_0 = []\n",
    "test_label = []\n",
    "train_go_2 = []\n",
    "train_go_4 = []\n",
    "train_go_6 = []\n",
    "train_go_8 = []\n",
    "train_go_0 = []\n",
    "train_xp_2 = []\n",
    "train_xp_4 = []\n",
    "train_xp_6 = []\n",
    "train_xp_8 = []\n",
    "train_xp_0 = []\n",
    "train_label = []\n",
    "\n",
    "with open('pergold1.csv') as csvfile:\n",
    "    reader = csv.DictReader(csvfile)\n",
    "    for row in reader:\n",
    "        if count>test_size:\n",
    "            train_go_2.append(float(row['rg2']))\n",
    "            train_go_4.append(float(row['rg4']))\n",
    "            train_go_6.append(float(row['rg6']))\n",
    "            train_go_8.append(float(row['rg8']))\n",
    "            train_go_0.append(float(row['rg10']))\n",
    "            train_xp_2.append(float(row['rx2']))\n",
    "            train_xp_4.append(float(row['rx4']))\n",
    "            train_xp_6.append(float(row['rx6']))\n",
    "            train_xp_8.append(float(row['rx8']))\n",
    "            train_xp_0.append(float(row['rx10']))\n",
    "            train_label.append(float(row['rwin']))\n",
    "        else:\n",
    "            test_go_2.append(float(row['rg2']))\n",
    "            test_go_4.append(float(row['rg4']))\n",
    "            test_go_6.append(float(row['rg6']))\n",
    "            test_go_8.append(float(row['rg8']))\n",
    "            test_go_0.append(float(row['rg10']))\n",
    "            test_xp_2.append(float(row['rx2']))\n",
    "            test_xp_4.append(float(row['rx4']))\n",
    "            test_xp_6.append(float(row['rx6']))\n",
    "            test_xp_8.append(float(row['rx8']))\n",
    "            test_xp_0.append(float(row['rx10']))\n",
    "            test_label.append(float(row['rwin']))\n",
    "        count += 1\n",
    "\n",
    "test_go_2 = np.expand_dims(np.asarray(test_go_2), 1)\n",
    "test_go_4 = np.expand_dims(np.asarray(test_go_4), 1)\n",
    "test_go_6 = np.expand_dims(np.asarray(test_go_6), 1)\n",
    "test_go_8 = np.expand_dims(np.asarray(test_go_8), 1)\n",
    "test_go_0 = np.expand_dims(np.asarray(test_go_0), 1)\n",
    "test_xp_2 = np.expand_dims(np.asarray(test_xp_2), 1)\n",
    "test_xp_4 = np.expand_dims(np.asarray(test_xp_4), 1)\n",
    "test_xp_6 = np.expand_dims(np.asarray(test_xp_6), 1)\n",
    "test_xp_8 = np.expand_dims(np.asarray(test_xp_8), 1)\n",
    "test_xp_0 = np.expand_dims(np.asarray(test_xp_0), 1)\n",
    "train_go_2 = np.expand_dims(np.asarray(train_go_2), 1)\n",
    "train_go_4 = np.expand_dims(np.asarray(train_go_4), 1)\n",
    "train_go_6 = np.expand_dims(np.asarray(train_go_6), 1)\n",
    "train_go_8 = np.expand_dims(np.asarray(train_go_8), 1)\n",
    "train_go_0 = np.expand_dims(np.asarray(train_go_0), 1)\n",
    "train_xp_2 = np.expand_dims(np.asarray(train_xp_2), 1)\n",
    "train_xp_4 = np.expand_dims(np.asarray(train_xp_4), 1)\n",
    "train_xp_6 = np.expand_dims(np.asarray(train_xp_6), 1)\n",
    "train_xp_8 = np.expand_dims(np.asarray(train_xp_8), 1)\n",
    "train_xp_0 = np.expand_dims(np.asarray(train_xp_0), 1)"
   ]
  },
  {
   "cell_type": "markdown",
   "metadata": {},
   "source": [
    "# Logistic Regressor\n",
    "\n",
    "using data gold at the end of match"
   ]
  },
  {
   "cell_type": "code",
   "execution_count": 2,
   "metadata": {},
   "outputs": [],
   "source": [
    "LR = linear_model.LogisticRegression(C=1e5)\n",
    "LR.fit(train_go_0, train_label)\n",
    "prediction = LR.predict(test_go_0)"
   ]
  },
  {
   "cell_type": "code",
   "execution_count": 3,
   "metadata": {},
   "outputs": [
    {
     "name": "stdout",
     "output_type": "stream",
     "text": [
      "0.9480207916833266\n"
     ]
    }
   ],
   "source": [
    "count = 0\n",
    "for i in range(len(test_label)):\n",
    "    if prediction[i]==test_label[i]:\n",
    "        count += 1\n",
    "        \n",
    "print(count/len(test_label))"
   ]
  },
  {
   "cell_type": "code",
   "execution_count": 4,
   "metadata": {
    "collapsed": true
   },
   "outputs": [],
   "source": [
    "import matplotlib.pyplot as plt"
   ]
  },
  {
   "cell_type": "code",
   "execution_count": 23,
   "metadata": {},
   "outputs": [
    {
     "data": {
      "image/png": "[encoded data removed]",
      "text/plain": [
       "<matplotlib.figure.Figure at 0x214b739db00>"
      ]
     },
     "metadata": {},
     "output_type": "display_data"
    }
   ],
   "source": [
    "plt.scatter(test_go_0, test_label, color='red')\n",
    "X = np.expand_dims(np.arange(min(test_go_0), max(test_go_0), 1), 1)\n",
    "Y = LR.predict_proba(X)\n",
    "plt.plot(X, Y[:,1], color='green')\n",
    "plt.show()"
   ]
  },
  {
   "cell_type": "markdown",
   "metadata": {},
   "source": [
    "# MLPRegressor"
   ]
  },
  {
   "cell_type": "code",
   "execution_count": 62,
   "metadata": {
    "collapsed": true
   },
   "outputs": [],
   "source": [
    "from sklearn.neural_network import MLPRegressor"
   ]
  },
  {
   "cell_type": "code",
   "execution_count": 75,
   "metadata": {
    "collapsed": true
   },
   "outputs": [],
   "source": [
    "MLPR = MLPRegressor(hidden_layer_sizes=(512,256), activation='logistic')\n",
    "MLPR.fit(train_go_0, train_label)\n",
    "prediction = MLPR.predict(test_go_0)"
   ]
  },
  {
   "cell_type": "code",
   "execution_count": 76,
   "metadata": {},
   "outputs": [
    {
     "name": "stdout",
     "output_type": "stream",
     "text": [
      "0.9480207916833266\n"
     ]
    }
   ],
   "source": [
    "count = 0\n",
    "for i in range(len(test_label)):\n",
    "    if np.abs(prediction[i]-test_label[i])<0.5:\n",
    "        count += 1\n",
    "        \n",
    "print(count/len(test_label))"
   ]
  },
  {
   "cell_type": "code",
   "execution_count": 77,
   "metadata": {},
   "outputs": [
    {
     "data": {
      "image/png": "[encoded data removed]",
      "text/plain": [
       "<matplotlib.figure.Figure at 0x214b7663278>"
      ]
     },
     "metadata": {},
     "output_type": "display_data"
    }
   ],
   "source": [
    "plt.scatter(test_go_0, test_label, color='red')\n",
    "X = np.expand_dims(np.arange(min(test_go_0), max(test_go_0), 1), 1)\n",
    "Y = MLPR.predict(X)\n",
    "plt.plot(X, Y, color='green')\n",
    "plt.show()"
   ]
  },
  {
   "cell_type": "markdown",
   "metadata": {},
   "source": [
    "# Decision Tree Regressor"
   ]
  },
  {
   "cell_type": "code",
   "execution_count": 51,
   "metadata": {
    "collapsed": true
   },
   "outputs": [],
   "source": [
    "from sklearn import tree\n",
    "TR = tree.DecisionTreeRegressor(max_depth=3)\n",
    "TR.fit(train_go_0, train_label)\n",
    "prediction = MLPR.predict(test_go_0)"
   ]
  },
  {
   "cell_type": "code",
   "execution_count": 52,
   "metadata": {},
   "outputs": [
    {
     "name": "stdout",
     "output_type": "stream",
     "text": [
      "0.9480207916833266\n"
     ]
    }
   ],
   "source": [
    "count = 0\n",
    "for i in range(len(test_label)):\n",
    "    if np.abs(prediction[i]-test_label[i])<0.5:\n",
    "        count += 1\n",
    "        \n",
    "print(count/len(test_label))"
   ]
  },
  {
   "cell_type": "code",
   "execution_count": 53,
   "metadata": {},
   "outputs": [
    {
     "data": {
      "image/png": "[encoded data removed]",
      "text/plain": [
       "<matplotlib.figure.Figure at 0x214b4b25828>"
      ]
     },
     "metadata": {},
     "output_type": "display_data"
    }
   ],
   "source": [
    "plt.scatter(test_go_0, test_label, color='red')\n",
    "X = np.expand_dims(np.arange(min(test_go_0), max(test_go_0), 1), 1)\n",
    "Y = TR.predict(X)\n",
    "plt.plot(X, Y, color='green')\n",
    "plt.show()"
   ]
  },
  {
   "cell_type": "code",
   "execution_count": 69,
   "metadata": {
    "collapsed": true
   },
   "outputs": [],
   "source": [
    "TR = tree.DecisionTreeRegressor(max_depth=100)\n",
    "TR.fit(train_go_0, train_label)\n",
    "prediction = MLPR.predict(test_go_0)"
   ]
  },
  {
   "cell_type": "code",
   "execution_count": 70,
   "metadata": {},
   "outputs": [
    {
     "name": "stdout",
     "output_type": "stream",
     "text": [
      "0.9480207916833266\n"
     ]
    }
   ],
   "source": [
    "count = 0\n",
    "for i in range(len(test_label)):\n",
    "    if np.abs(prediction[i]-test_label[i])<0.5:\n",
    "        count += 1\n",
    "        \n",
    "print(count/len(test_label))"
   ]
  },
  {
   "cell_type": "code",
   "execution_count": 71,
   "metadata": {},
   "outputs": [
    {
     "data": {
      "image/png": "[encoded data removed]",
      "text/plain": [
       "<matplotlib.figure.Figure at 0x214b7682898>"
      ]
     },
     "metadata": {},
     "output_type": "display_data"
    }
   ],
   "source": [
    "plt.scatter(test_go_0, test_label, color='red')\n",
    "X = np.expand_dims(np.arange(min(test_go_0), max(test_go_0), 1), 1)\n",
    "Y = TR.predict(X)\n",
    "plt.plot(X, Y, color='green')\n",
    "plt.show()"
   ]
  },
  {
   "cell_type": "markdown",
   "metadata": {},
   "source": [
    "# SVM Regressor"
   ]
  },
  {
   "cell_type": "code",
   "execution_count": 41,
   "metadata": {},
   "outputs": [],
   "source": [
    "from sklearn import svm\n",
    "\n",
    "SR = svm.SVR()\n",
    "SR.fit(train_go_0, train_label)\n",
    "prediction = SR.predict(test_go_0)"
   ]
  },
  {
   "cell_type": "code",
   "execution_count": 43,
   "metadata": {},
   "outputs": [
    {
     "name": "stdout",
     "output_type": "stream",
     "text": [
      "0.7197121151539384\n"
     ]
    }
   ],
   "source": [
    "count = 0\n",
    "for i in range(len(test_label)):\n",
    "    if np.abs(prediction[i]-test_label[i])<0.5:\n",
    "        count += 1\n",
    "        \n",
    "print(count/len(test_label))"
   ]
  },
  {
   "cell_type": "code",
   "execution_count": 44,
   "metadata": {},
   "outputs": [
    {
     "data": {
      "image/png": "[encoded data removed]",
      "text/plain": [
       "<matplotlib.figure.Figure at 0x214b4a2d208>"
      ]
     },
     "metadata": {},
     "output_type": "display_data"
    }
   ],
   "source": [
    "plt.scatter(test_go_0, test_label, color='red')\n",
    "X = np.expand_dims(np.arange(min(test_go_0), max(test_go_0), 1), 1)\n",
    "Y = SR.predict(X)\n",
    "plt.plot(X, Y, color='green')\n",
    "plt.show()"
   ]
  },
  {
   "cell_type": "markdown",
   "metadata": {},
   "source": []
  },
  {
   "cell_type": "code",
   "execution_count": null,
   "metadata": {
    "collapsed": true
   },
   "outputs": [],
   "source": []
  },
  {
   "cell_type": "code",
   "execution_count": null,
   "metadata": {
    "collapsed": true
   },
   "outputs": [],
   "source": []
  },
  {
   "cell_type": "code",
   "execution_count": null,
   "metadata": {
    "collapsed": true
   },
   "outputs": [],
   "source": []
  }
 ],
 "metadata": {
  "kernelspec": {
   "display_name": "Python 3",
   "language": "python",
   "name": "python3"
  },
  "language_info": {
   "codemirror_mode": {
    "name": "ipython",
    "version": 3
   },
   "file_extension": ".py",
   "mimetype": "text/x-python",
   "name": "python",
   "nbconvert_exporter": "python",
   "pygments_lexer": "ipython3",
   "version": "3.5.4"
  }
 },
 "nbformat": 4,
 "nbformat_minor": 2
}
