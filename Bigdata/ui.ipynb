{
 "cells": [
  {
   "cell_type": "markdown",
   "metadata": {},
   "source": [
    "# environment"
   ]
  },
  {
   "cell_type": "code",
   "execution_count": null,
   "metadata": {
    "collapsed": true
   },
   "outputs": [],
   "source": [
    "import wx\n",
    "\n",
    "class HelloFrame(wx.Frame):\n",
    "\n",
    "    def __init__(self):\n",
    "        wx.Frame.__init__(self, None, title=\"Dota WL Predictor\", size=DefaultSizeMain)\n",
    "        \n",
    "        # add initialization here\n",
    "            \n",
    "    # add your functions here\n",
    "        \n",
    "app = wx.App()\n",
    "frm = HelloFrame()\n",
    "frm.Show()\n",
    "app.MainLoop()"
   ]
  },
  {
   "cell_type": "markdown",
   "metadata": {},
   "source": [
    "# button"
   ]
  },
  {
   "cell_type": "code",
   "execution_count": null,
   "metadata": {
    "collapsed": true
   },
   "outputs": [],
   "source": [
    "# define a button and add it to self\n",
    "\n",
    "self.btn = []\n",
    "self.btn.append(wx.Button(pnl, label='Load Match', pos=(100,175), style=wx.NO_BORDER))\n",
    "self.btn[0].SetBackgroundColour(ColorBackground)\n",
    "self.btn[0].SetForegroundColour(ColorText)\n",
    "\n",
    "# bind button with events\n",
    "self.btn[0].Bind(wx.EVT_BUTTON, self.GetMatch)\n",
    "self.btn[0].Bind(wx.EVT_ENTER_WINDOW, lambda event: self.MouseOver(event, 0))\n",
    "self.btn[0].Bind(wx.EVT_LEAVE_WINDOW, lambda event: self.MouseLeave(event, 0))\n",
    "\n",
    "# you need to define the functions\n",
    "\n",
    "def GetMatch(self, event):\n",
    "    # add codes for this function\n",
    "    \n",
    "def MouseOver(self, event):\n",
    "    # add codes for this function\n",
    "    \n",
    "def MouseLeave(self, event):\n",
    "    # add codes for this function"
   ]
  },
  {
   "cell_type": "markdown",
   "metadata": {},
   "source": [
    "# Figure function\n",
    "\n",
    "used for plotting figures"
   ]
  },
  {
   "cell_type": "code",
   "execution_count": null,
   "metadata": {
    "collapsed": true
   },
   "outputs": [],
   "source": [
    "# you may not use all these libraries\n",
    "# for details of this part, search \"matplotlib\"\n",
    "\n",
    "from matplotlib.backends.backend_wxagg import FigureCanvasWxAgg as FigureCanvas\n",
    "from matplotlib.backends.backend_wx import NavigationToolbar2Wx\n",
    "from matplotlib.figure import Figure\n",
    "import matplotlib.pyplot as plt\n",
    "from matplotlib.pyplot import gcf, setp\n",
    "\n",
    "# similar to main frame, you will need a new frame for this figure\n",
    "\n",
    "class CanvasFrame(wx.Frame):\n",
    "    def __init__(self, rc, str_):\n",
    "        wx.Frame.__init__(self, None, title=\"Real Time \"+str_+\" Comparison\", size=DefaultSize)\n",
    "        self.figure = Figure(facecolor=ColorBackground, edgecolor=ColorBackground)\n",
    "        \n",
    "    def Draw(self, params):\n",
    "        # add codes for this function"
   ]
  }
 ],
 "metadata": {
  "kernelspec": {
   "display_name": "Python 3",
   "language": "python",
   "name": "python3"
  },
  "language_info": {
   "codemirror_mode": {
    "name": "ipython",
    "version": 3
   },
   "file_extension": ".py",
   "mimetype": "text/x-python",
   "name": "python",
   "nbconvert_exporter": "python",
   "pygments_lexer": "ipython3",
   "version": "3.6.1"
  }
 },
 "nbformat": 4,
 "nbformat_minor": 2
}
